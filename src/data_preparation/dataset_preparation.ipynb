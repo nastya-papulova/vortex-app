{
 "cells": [
  {
   "cell_type": "code",
   "execution_count": 1,
   "id": "45bb9453",
   "metadata": {},
   "outputs": [],
   "source": [
    "import numpy as np\n",
    "import os\n",
    "from PIL import Image, ImageDraw, ImageFilter\n",
    "import matplotlib.pyplot as plt\n",
    "import albumentations as A\n",
    "import cv2"
   ]
  },
  {
   "cell_type": "code",
   "execution_count": 2,
   "id": "9e232b60",
   "metadata": {},
   "outputs": [],
   "source": [
    "folder_path = \"../../data/raw\"\n",
    "save_dir = '../../data/processed'\n",
    "\n",
    "transform_shape = A.Compose([\n",
    "    A.ShiftScaleRotate(shift_limit=0.2, scale_limit=0.3, rotate_limit=360, p=0.6, border_mode=cv2.BORDER_CONSTANT),\n",
    "    A.Perspective(scale=(0, 0.9), keep_size=True, p=0.6),\n",
    "    A.ElasticTransform(approximate=True, border_mode=cv2.BORDER_CONSTANT, p=0.6),\n",
    "    A.GridDistortion(border_mode=cv2.BORDER_CONSTANT, p=0.6), \n",
    "])\n",
    "transform_color = A.Compose([\n",
    "    A.RandomBrightnessContrast(brightness_limit=0.2, contrast_limit=0.2, p=0.7),\n",
    "    A.Blur(blur_limit=50, p=0.7),\n",
    "    A.GaussNoise(var_limit=50, p=0.9), \n",
    "])\n",
    "\n",
    "os.makedirs(save_dir, exist_ok=True)"
   ]
  },
  {
   "cell_type": "code",
   "execution_count": null,
   "id": "1a3416f7-3713-4322-bcc8-c0d897ec4605",
   "metadata": {},
   "outputs": [],
   "source": [
    "def get_agumentations(folder_path, save_dir, num_samples=300):\n",
    "    for root, dirs, files in os.walk(folder_path):\n",
    "        for file in files:\n",
    "        \n",
    "            file_path = os.path.join(root, file) \n",
    "            image = Image.open(file_path)\n",
    "            save_subdir = os.path.join(save_dir, file[:-4])\n",
    "            os.makedirs(save_subdir, exist_ok=True)\n",
    "        \n",
    "            for i in range(num_samples): \n",
    "            \n",
    "                mask = Image.new(\"L\", image.size, 0)\n",
    "                draw = ImageDraw.Draw(mask)\n",
    "                background = Image.new(\"L\", image.size, 120)\n",
    "                if i<150: draw.ellipse((25, 25, 110, 110), fill=255) #половина изобрадений с круглой маской, половина - с квадратной\n",
    "                else: draw.rectangle((30, 30, 110, 110), fill=255)\n",
    "                blurred_mask = mask.filter(ImageFilter.GaussianBlur(10))\n",
    "                image_with_mask = Image.new(\"L\", image.size)\n",
    "                image_with_mask.paste(background, (0, 0))\n",
    "                image_with_mask.paste(image, (0, 0), mask=blurred_mask)\n",
    "                image_arr = np.asarray(image_with_mask)\n",
    "                rotated_image = transform_shape(image=image_arr)['image']\n",
    "                rotated_image = Image.fromarray(rotated_image)\n",
    "                result_image = Image.new(\"L\", background.size, 120)  \n",
    "                result_image.paste(rotated_image, (0, 0), rotated_image)  \n",
    "\n",
    "                result_image_arr = np.asarray(result_image)\n",
    "                agumented_image = transform_color(image=result_image_arr)['image']\n",
    "            \n",
    "                save_path = os.path.join(save_subdir, f'{i}.jpeg')\n",
    "                Image.fromarray(np.uint8(agumented_image)).convert(\"L\").save(save_path)"
   ]
  },
  {
   "cell_type": "code",
   "execution_count": null,
   "id": "e9a35f3c-56e3-4e2c-8a90-b346c9f4dcb4",
   "metadata": {},
   "outputs": [],
   "source": [
    "get_agumentations(folder_path, save_dir)"
   ]
  },
  {
   "cell_type": "code",
   "execution_count": null,
   "id": "b41ffc9a-f24f-4101-92d9-0af34e7ed927",
   "metadata": {},
   "outputs": [],
   "source": [
    "# дополняем датасет реальными изображениями интерференционных картин\n",
    "folder_path_extentions = \"../../data/extentions\" \n",
    "get_agumentations(folder_path_extentions, save_dir)"
   ]
  },
  {
   "cell_type": "code",
   "execution_count": null,
   "id": "2d679ee8-dadb-4175-a7e3-f903de5761a4",
   "metadata": {},
   "outputs": [],
   "source": []
  },
  {
   "cell_type": "code",
   "execution_count": null,
   "id": "64799671-d306-4ced-93c3-7b34ad8e7b61",
   "metadata": {},
   "outputs": [],
   "source": []
  },
  {
   "cell_type": "code",
   "execution_count": null,
   "id": "7cacae3e-50d1-474d-ac9d-a5083b6ccd19",
   "metadata": {},
   "outputs": [],
   "source": []
  }
 ],
 "metadata": {
  "kernelspec": {
   "display_name": "Python 3 (ipykernel)",
   "language": "python",
   "name": "python3"
  },
  "language_info": {
   "codemirror_mode": {
    "name": "ipython",
    "version": 3
   },
   "file_extension": ".py",
   "mimetype": "text/x-python",
   "name": "python",
   "nbconvert_exporter": "python",
   "pygments_lexer": "ipython3",
   "version": "3.11.8"
  }
 },
 "nbformat": 4,
 "nbformat_minor": 5
}
